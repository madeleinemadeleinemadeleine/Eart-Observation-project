{
 "cells": [
  {
   "cell_type": "code",
   "execution_count": 1,
   "id": "fb2b0bc8-e0d4-49a3-80d6-e0f37be82498",
   "metadata": {},
   "outputs": [
    {
     "name": "stdout",
     "output_type": "stream",
     "text": [
      "C:\\Users\\Io\\Documents\\Cours\\EO\\projet\\couches_qgis\n"
     ]
    }
   ],
   "source": [
    "import matplotlib\n",
    "import matplotlib.pyplot as plt\n",
    "import numpy as np\n",
    "\n",
    "from skimage import data\n",
    "from skimage import exposure\n",
    "from skimage.exposure import match_histograms\n",
    "\n",
    "import shapefile as shp\n",
    "import os\n",
    "cwd = os.getcwd()\n",
    "print(cwd)\n",
    "import shapefile as shp  # Requires the pyshp package\n",
    "import matplotlib.pyplot as plt\n",
    "import seaborn as sns\n"
   ]
  },
  {
   "cell_type": "code",
   "execution_count": 2,
   "id": "7044de7c-5329-487c-9d35-7e89a9747763",
   "metadata": {
    "tags": []
   },
   "outputs": [
    {
     "name": "stdout",
     "output_type": "stream",
     "text": [
      "Record #0: [0.0044, 0.0, 0.3837, 0.19815, 0.23339471, 0.71202976, 0.28845, 0.1569, 0.01565, 0.0, 0.63495231, 0.0, 0.0, 0.0278, 0.04265, 0.0823, 0.0064, 0.062, 0.1376, 0.29885, 0.34505, 0.3686, 0.3771, 0.0, 0.0085, 0.0004, 0.40285441]\n",
      "62\n",
      "[[9.055961294973104, 45.847631565957464]]\n"
     ]
    }
   ],
   "source": [
    "sample21 = shp.Reader(\"C:/Users/Io/Documents/Cours/EO/projet/dataGEE/sample21.shp\") \n",
    "sample21_sr = sample21.shapeRecords()\n",
    "test = sample21_sr[0]\n",
    "print(test.record)\n",
    "print(len(sample21_sr))\n",
    "print(test.shape.points)"
   ]
  },
  {
   "cell_type": "code",
   "execution_count": 3,
   "id": "abef107b-1df0-453b-8938-2840a5382fa3",
   "metadata": {},
   "outputs": [
    {
     "data": {
      "text/plain": [
       "[[5, 'cre'], [6, 'ndvi'], [11, 'Gndvi'], [27, 'nbr']]"
      ]
     },
     "execution_count": 3,
     "metadata": {},
     "output_type": "execute_result"
    }
   ],
   "source": [
    "boi = ['ndvi','Gndvi','nbr','cre']\n",
    "bands = sample21.fields\n",
    "indices = [[i,sample21.fields[i][0]]  for i in range(len(bands)) if sample21.fields[i][0] in boi]\n",
    "indices"
   ]
  },
  {
   "cell_type": "code",
   "execution_count": 4,
   "id": "396043e6-b0a8-4686-a536-f715ce393874",
   "metadata": {},
   "outputs": [
    {
     "name": "stdout",
     "output_type": "stream",
     "text": [
      "6\n",
      "[0.28845, 0.1979, 0.20865, 0.20225, 0.19355, 0.20735, 0.21095, 0.2623, 0.221, 0.2012, 0.2585, 0.2123, 0.28365, 0.2601, 0.23125, 0.23855, 0.2336, 0.2615, 0.27735, 0.2122, 0.27035, 0.26775, 0.20085, 0.19005, 0.1864, 0.2119, 0.1953, 0.21335, 0.21125, 0.1814, 0.2181, 0.19315, 0.19535, 0.2276, 0.2034, 0.2756, 0.3128, 0.2559, 0.2507, 0.2724, 0.2118, 0.1937, 0.18155, 0.19495, 0.2217, 0.19395, 0.2317, 0.2261, 0.17585, 0.26675, 0.2592, 0.1901, 0.2176, 0.10185, 0.1943, 0.21455, 0.20195, 0.2074, 0.2264, 0.18535, 0.23345, 0.22695]\n"
     ]
    }
   ],
   "source": [
    "#start code\n",
    "sample21 = shp.Reader(\"C:/Users/Io/Documents/Cours/EO/projet/dataGEE/sample21.shp\") \n",
    "sample21_sr = sample21.shapeRecords()\n",
    "no_samples = len(sample21.shapeRecords())\n",
    "boi = 'ndvi'\n",
    "sample_ndvi21 = []\n",
    "index_boi = [[j,sample21.fields[j][0]]  for j in range(len(bands)) if sample21.fields[j][0] in boi]\n",
    "j21 = index_boi[0][0]\n",
    "print(j21)\n",
    "sample_ndvi21 = [(sample21_sr[i]).record[j21] for i in range(no_samples)]\n",
    "print(sample_ndvi21)"
   ]
  },
  {
   "cell_type": "code",
   "execution_count": 5,
   "id": "51b59013-a2ba-4452-a333-33977ee9a273",
   "metadata": {},
   "outputs": [
    {
     "name": "stdout",
     "output_type": "stream",
     "text": [
      "6\n",
      "[0.3334, 0.2155, 0.2435, 0.2248, 0.2067, 0.2207, 0.222, 0.3266, 0.236, 0.204, 0.3387, 0.2211, 0.3521, 0.3227, 0.2516, 0.2495, 0.2459, 0.2692, 0.2876, 0.2237, 0.2791, 0.2923, 0.2179, 0.2166, 0.2366, 0.24, 0.2018, 0.22445, 0.21985, 0.192, 0.2232, 0.2089, 0.2015, 0.241, 0.2105, 0.3341, 0.3422, 0.26605, 0.2604, 0.2799, 0.2205, 0.1974, 0.20105, 0.21365, 0.2276, 0.214, 0.2408, 0.2218, 0.3348, 0.2702, 0.2761, 0.2093, 0.2176, 0.104, 0.20785, 0.2233, 0.2097, 0.2108, 0.2414, 0.195, 0.24715, 0.2395]\n"
     ]
    }
   ],
   "source": [
    "#start code\n",
    "sample22 = shp.Reader(\"C:/Users/Io/Documents/Cours/EO/projet/dataGEE/sample22.shp\") \n",
    "sample22_sr = sample22.shapeRecords()\n",
    "no_samples = len(sample22.shapeRecords())\n",
    "boi = 'ndvi'\n",
    "sample_ndvi22 = []\n",
    "index_boi = [[j,sample22.fields[j][0]]  for j in range(len(bands)) if sample22.fields[j][0] in boi]\n",
    "j22 = index_boi[0][0]\n",
    "print(j22)\n",
    "sample_ndvi22 = [(sample22_sr[i]).record[j22] for i in range(no_samples)]\n",
    "print(sample_ndvi22)"
   ]
  },
  {
   "cell_type": "code",
   "execution_count": 18,
   "id": "b8205b35-a8d3-445a-a051-8f466a563f77",
   "metadata": {},
   "outputs": [
    {
     "data": {
      "image/png": "[encoded data removed]",
      "text/plain": [
       "<Figure size 640x480 with 1 Axes>"
      ]
     },
     "metadata": {},
     "output_type": "display_data"
    }
   ],
   "source": [
    "sns.histplot(sample_ndvi21 , bins = 15, color=\"blue\", label = \"2021 points sampled\")\n",
    "sns.histplot(sample_ndvi22, bins = 15, label = \"2022 points sampled\", color=\"skyblue\")\n",
    "plt.legend()\n",
    "plt.xlabel('NDVI value')\n",
    "plt.savefig('C:/Users/Io/Documents/Cours/EO/projet/images/ndvi_hist.png')"
   ]
  },
  {
   "cell_type": "code",
   "execution_count": 19,
   "id": "7347e4ee-82f8-4d5a-8817-f9bf904ac05e",
   "metadata": {},
   "outputs": [
    {
     "name": "stdout",
     "output_type": "stream",
     "text": [
      "means 0.2218282258064516 0.2420508064516129 \n",
      " std 0.03504857760328552 0.04583558405298953\n",
      "welsh test TtestResult(statistic=-2.737315118601279, pvalue=0.007186696675981458, df=114.15966279886145)\n",
      "t test TtestResult(statistic=-2.737315118601279, pvalue=0.007120918521813938, df=122.0)\n"
     ]
    }
   ],
   "source": [
    "# statistical analysis not equal variance because of cloud cover between two years\n",
    "import scipy\n",
    "\n",
    "mean_ndvi21 = np.mean(sample_ndvi21)\n",
    "mean_ndvi22 = np.mean(sample_ndvi22)\n",
    "std_ndvi21 = np.std(sample_ndvi21)\n",
    "std_ndvi22 = np.std(sample_ndvi22)\n",
    "print('means', mean_ndvi21, mean_ndvi22, '\\n', 'std', std_ndvi21, std_ndvi22)\n",
    "\n",
    "print('welsh test',scipy.stats.ttest_ind(sample_ndvi21, sample_ndvi22, equal_var=False))\n",
    "print('t test', scipy.stats.ttest_ind(sample_ndvi21, sample_ndvi22, equal_var=True))\n"
   ]
  },
  {
   "cell_type": "code",
   "execution_count": null,
   "id": "a0c496f1-b0a9-43e1-9d1f-738cff0c49b1",
   "metadata": {},
   "outputs": [],
   "source": []
  },
  {
   "cell_type": "code",
   "execution_count": null,
   "id": "c4cd2fbf-e9c4-481d-8811-84f0c5fad942",
   "metadata": {},
   "outputs": [],
   "source": []
  }
 ],
 "metadata": {
  "kernelspec": {
   "display_name": "Python 3 (ipykernel)",
   "language": "python",
   "name": "python3"
  },
  "language_info": {
   "codemirror_mode": {
    "name": "ipython",
    "version": 3
   },
   "file_extension": ".py",
   "mimetype": "text/x-python",
   "name": "python",
   "nbconvert_exporter": "python",
   "pygments_lexer": "ipython3",
   "version": "3.11.4"
  }
 },
 "nbformat": 4,
 "nbformat_minor": 5
}
